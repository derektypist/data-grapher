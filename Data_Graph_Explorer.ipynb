{
  "nbformat": 4,
  "nbformat_minor": 0,
  "metadata": {
    "colab": {
      "provenance": [],
      "authorship_tag": "ABX9TyPz5J/gpm6FXYvVSs6GAoXy",
      "include_colab_link": true
    },
    "kernelspec": {
      "name": "python3",
      "display_name": "Python 3"
    },
    "language_info": {
      "name": "python"
    }
  },
  "cells": [
    {
      "cell_type": "markdown",
      "metadata": {
        "id": "view-in-github",
        "colab_type": "text"
      },
      "source": [
        "<a href=\"https://colab.research.google.com/github/derektypist/data-grapher/blob/main/Data_Graph_Explorer.ipynb\" target=\"_parent\"><img src=\"https://colab.research.google.com/assets/colab-badge.svg\" alt=\"Open In Colab\"/></a>"
      ]
    },
    {
      "cell_type": "markdown",
      "source": [
        "# Imports"
      ],
      "metadata": {
        "id": "5mjHnZtGKi30"
      }
    },
    {
      "cell_type": "code",
      "source": [
        "# Apply Imports\n",
        "import pandas as pd\n",
        "from google.colab import files\n",
        "import requests\n",
        "from io import StringIO\n",
        "import numpy as np\n",
        "import matplotlib.pyplot as plt"
      ],
      "metadata": {
        "id": "v33LyLMNxgDL"
      },
      "execution_count": 62,
      "outputs": []
    },
    {
      "cell_type": "markdown",
      "source": [
        "# Get CSV File Data"
      ],
      "metadata": {
        "id": "f9RSjlLrLUFM"
      }
    },
    {
      "cell_type": "code",
      "source": [
        "def get_csv_file_data():\n",
        "  choice = input(\"\"\"\n",
        "  Please choose an option below to get a CSV File:\\n\n",
        "  ------------------------------------------------\\n\n",
        "  1. Upload file\n",
        "  2. Provide URL\n",
        "  3. Use test data\n",
        "  ------------------------------------------------\\n\n",
        "  \"\"\"\n",
        "  )\n",
        "\n",
        "  if choice == \"1\":\n",
        "    uploaded_file = files.upload()\n",
        "    file_name = list(uploaded_file.keys())[0]\n",
        "    return pd.read_csv(StringIO(uploaded_file[file_name].decode(\"utf-8\")))\n",
        "  elif choice == \"2\":\n",
        "    url = input(\"Enter the URL: \")\n",
        "    response = requests.get(url)\n",
        "    return pd.read_csv(StringIO(response.text))\n",
        "  elif choice == \"3\":\n",
        "    url = \"https://raw.githubusercontent.com/fivethirtyeight/data/master/airline-safety/airline-safety.csv\"\n",
        "    response = requests.get(url)\n",
        "    return pd.read_csv(StringIO(response.text))\n",
        "  else:\n",
        "    print(\"Invalid option\")\n",
        "    return None\n"
      ],
      "metadata": {
        "id": "qJ1zUc_uyTNO"
      },
      "execution_count": 65,
      "outputs": []
    },
    {
      "cell_type": "markdown",
      "source": [
        "# Print Some Examples from the Data"
      ],
      "metadata": {
        "id": "bICZE9h2Siaw"
      }
    },
    {
      "cell_type": "code",
      "source": [
        "def show_data(data, headings):\n",
        "  print(\"Headings {0}\".format(headings))\n",
        "  print(data.head(2))"
      ],
      "metadata": {
        "id": "pj75dwIDSHfQ"
      },
      "execution_count": 66,
      "outputs": []
    },
    {
      "cell_type": "markdown",
      "source": [
        "# Display\n",
        "\n",
        "Run to use Data Grapher"
      ],
      "metadata": {
        "id": "_dN-MtoKUIQg"
      }
    },
    {
      "cell_type": "code",
      "source": [
        "df = get_csv_file_data()\n",
        "headings = df.columns.to_list()\n",
        "show_data(df, headings)\n",
        "\n",
        "# Display Column Names\n",
        "print(\"\\nColumns: \")\n",
        "for heading in headings:\n",
        "  print(\"\\t {0}\".format(heading))\n",
        "\n",
        "# Apply User Input to Customize Graph\n",
        "title = input(\"\\nEnter title of graph: \")\n",
        "xcol = input(\"\\nEnter name of column to be on the X-Axis: \")\n",
        "ycol = input(\"\\nEnter name of column to be on the Y-Axis: \")\n",
        "\n",
        "if xcol not in headings:\n",
        "  print(\"ERROR! Column name not found\")\n",
        "  xcol = input(\"\\nEnter name of column to be on the X-Axis.  Use correct spelling and capitalization.\")\n",
        "\n",
        "if ycol not in headings:\n",
        "  print(\"ERROR! Column name not found\")\n",
        "  ycol = input(\"\\nEnter name of column to be on the Y-Axis.  Use correct spelling and capitaliztion.\")\n",
        "\n",
        "scatter_or_line = input(\"\"\"\n",
        "Please choose an option to below to get type of graph:\\n\n",
        "------------------------------------------------------\\n\n",
        "1. Scatter Plot\n",
        "2. Line Graph\n",
        "------------------------------------------------------\\n\n",
        "\"\"\")\n",
        "\n",
        "if scatter_or_line not in [\"1\",\"2\"]:\n",
        "  print(\"Input not valid.  Defaulting to line graph\")\n",
        "  scatter_or_line = \"2\"\n",
        "\n",
        "print(\"\\n\")\n",
        "# Create the graph\n",
        "x = df[xcol].to_numpy()\n",
        "y = df[ycol].to_numpy()\n",
        "\n",
        "xmin = np.min(x)\n",
        "xmax = np.max(x)\n",
        "ymin = np.min(y)\n",
        "ymax = np.max(y)\n",
        "\n",
        "fig, ax = plt.subplots()\n",
        "plt.axis([xmin,xmax,ymin,ymax])\n",
        "\n",
        "if scatter_or_line == \"1\":\n",
        "  # Create scatter plot\n",
        "  plt.plot(x,y,'ro')\n",
        "else:\n",
        "  # Create line chart\n",
        "  plt.plot(x,y,'b')\n",
        "\n",
        "ax.set_title(title)\n",
        "ax.set_ylabel(ycol)\n",
        "ax.set_xlabel(xcol)\n",
        "plt.show()"
      ],
      "metadata": {
        "colab": {
          "base_uri": "https://localhost:8080/",
          "height": 1000
        },
        "id": "wPGHX5wyTDjX",
        "outputId": "c4ef2bc8-30ea-4fec-8312-d0779a275be1"
      },
      "execution_count": 79,
      "outputs": [
        {
          "output_type": "stream",
          "name": "stdout",
          "text": [
            "\n",
            "  Please choose an option below to get a CSV File:\n",
            "\n",
            "  ------------------------------------------------\n",
            "\n",
            "  1. Upload file\n",
            "  2. Provide URL\n",
            "  3. Use test data\n",
            "  ------------------------------------------------\n",
            "\n",
            "  2\n",
            "Enter the URL: https://raw.githubusercontent.com/fivethirtyeight/data/master/marriage/women.csv\n",
            "Headings ['Unnamed: 0', 'year', 'date', 'all_2534', 'HS_2534', 'SC_2534', 'BAp_2534', 'BAo_2534', 'GD_2534', 'White_2534', 'Black_2534', 'Hisp_2534', 'NE_2534', 'MA_2534', 'Midwest_2534', 'South_2534', 'Mountain_2534', 'Pacific_2534', 'poor_2534', 'mid_2534', 'rich_2534', 'all_3544', 'HS_3544', 'SC_3544', 'BAp_3544', 'BAo_3544', 'GD_3544', 'White_3544', 'Black_3544', 'Hisp_3544', 'NE_3544', 'MA_3544', 'Midwest_3544', 'South_3544', 'Mountain_3544', 'Pacific_3544', 'poor_3544', 'mid_3544', 'rich_3544', 'all_4554', 'HS_4554', 'SC_4554', 'BAp_4554', 'BAo_4554', 'GD_4554', 'White_4554', 'Black_4554', 'Hisp_4554', 'NE_4554', 'MA_4554', 'Midwest_4554', 'South_4554', 'Mountain_4554', 'Pacific_4554', 'poor_4554', 'mid_4554', 'rich_4554', 'work_2534', 'nowork_2534', 'work_HS_2534', 'work_SC_2534', 'work_BAp_2534', 'work_BAo_2534', 'work_GD_2534', 'nowork_HS_2534', 'nowork_SC_2534', 'nowork_BAp_2534', 'nowork_BAo_2534', 'nowork_GD_2534', 'work_White_2534', 'work_Black_2534', 'work_Hisp_2534', 'nowork_White_2534', 'nowork_Black_2534', 'nowork_Hisp_2534', 'work_poor_2534', 'work_mid_2534', 'work_rich_2534', 'nowork_poor_2534', 'nowork_mid_2534', 'nowork_rich_2534', 'nokids_all_2534', 'kids_all_2534', 'nokids_HS_2534', 'nokids_SC_2534', 'nokids_BAp_2534', 'nokids_BAo_2534', 'nokids_GD_2534', 'kids_HS_2534', 'kids_SC_2534', 'kids_BAp_2534', 'kids_BAo_2534', 'kids_GD_2534', 'nokids_poor_2534', 'nokids_mid_2534', 'nokids_rich_2534', 'kids_poor_2534', 'kids_mid_2534', 'kids_rich_2534']\n",
            "   Unnamed: 0  year        date  all_2534   HS_2534   SC_2534  BAp_2534  \\\n",
            "0           1  1960  1960-01-01  0.085942  0.075020  0.114628  0.288222   \n",
            "1           2  1970  1970-01-01  0.099978  0.083079  0.125159  0.270010   \n",
            "\n",
            "   BAo_2534  GD_2534  White_2534  ...  kids_SC_2534  kids_BAp_2534  \\\n",
            "0  0.288222      NaN    0.079577  ...      0.001186       0.001968   \n",
            "1  0.270010      NaN    0.089384  ...      0.006234       0.004912   \n",
            "\n",
            "   kids_BAo_2534  kids_GD_2534  nokids_poor_2534  nokids_mid_2534  \\\n",
            "0       0.001968           NaN          0.452277         0.374556   \n",
            "1       0.004912           NaN          0.486903         0.386327   \n",
            "\n",
            "   nokids_rich_2534  kids_poor_2534  kids_mid_2534  kids_rich_2534  \n",
            "0          0.427307        0.013076       0.000450        0.000256  \n",
            "1          0.382993        0.047126       0.005125        0.003841  \n",
            "\n",
            "[2 rows x 99 columns]\n",
            "\n",
            "Columns: \n",
            "\t Unnamed: 0\n",
            "\t year\n",
            "\t date\n",
            "\t all_2534\n",
            "\t HS_2534\n",
            "\t SC_2534\n",
            "\t BAp_2534\n",
            "\t BAo_2534\n",
            "\t GD_2534\n",
            "\t White_2534\n",
            "\t Black_2534\n",
            "\t Hisp_2534\n",
            "\t NE_2534\n",
            "\t MA_2534\n",
            "\t Midwest_2534\n",
            "\t South_2534\n",
            "\t Mountain_2534\n",
            "\t Pacific_2534\n",
            "\t poor_2534\n",
            "\t mid_2534\n",
            "\t rich_2534\n",
            "\t all_3544\n",
            "\t HS_3544\n",
            "\t SC_3544\n",
            "\t BAp_3544\n",
            "\t BAo_3544\n",
            "\t GD_3544\n",
            "\t White_3544\n",
            "\t Black_3544\n",
            "\t Hisp_3544\n",
            "\t NE_3544\n",
            "\t MA_3544\n",
            "\t Midwest_3544\n",
            "\t South_3544\n",
            "\t Mountain_3544\n",
            "\t Pacific_3544\n",
            "\t poor_3544\n",
            "\t mid_3544\n",
            "\t rich_3544\n",
            "\t all_4554\n",
            "\t HS_4554\n",
            "\t SC_4554\n",
            "\t BAp_4554\n",
            "\t BAo_4554\n",
            "\t GD_4554\n",
            "\t White_4554\n",
            "\t Black_4554\n",
            "\t Hisp_4554\n",
            "\t NE_4554\n",
            "\t MA_4554\n",
            "\t Midwest_4554\n",
            "\t South_4554\n",
            "\t Mountain_4554\n",
            "\t Pacific_4554\n",
            "\t poor_4554\n",
            "\t mid_4554\n",
            "\t rich_4554\n",
            "\t work_2534\n",
            "\t nowork_2534\n",
            "\t work_HS_2534\n",
            "\t work_SC_2534\n",
            "\t work_BAp_2534\n",
            "\t work_BAo_2534\n",
            "\t work_GD_2534\n",
            "\t nowork_HS_2534\n",
            "\t nowork_SC_2534\n",
            "\t nowork_BAp_2534\n",
            "\t nowork_BAo_2534\n",
            "\t nowork_GD_2534\n",
            "\t work_White_2534\n",
            "\t work_Black_2534\n",
            "\t work_Hisp_2534\n",
            "\t nowork_White_2534\n",
            "\t nowork_Black_2534\n",
            "\t nowork_Hisp_2534\n",
            "\t work_poor_2534\n",
            "\t work_mid_2534\n",
            "\t work_rich_2534\n",
            "\t nowork_poor_2534\n",
            "\t nowork_mid_2534\n",
            "\t nowork_rich_2534\n",
            "\t nokids_all_2534\n",
            "\t kids_all_2534\n",
            "\t nokids_HS_2534\n",
            "\t nokids_SC_2534\n",
            "\t nokids_BAp_2534\n",
            "\t nokids_BAo_2534\n",
            "\t nokids_GD_2534\n",
            "\t kids_HS_2534\n",
            "\t kids_SC_2534\n",
            "\t kids_BAp_2534\n",
            "\t kids_BAo_2534\n",
            "\t kids_GD_2534\n",
            "\t nokids_poor_2534\n",
            "\t nokids_mid_2534\n",
            "\t nokids_rich_2534\n",
            "\t kids_poor_2534\n",
            "\t kids_mid_2534\n",
            "\t kids_rich_2534\n",
            "\n",
            "Enter title of graph: Marriage Data for Women\n",
            "\n",
            "Enter name of column to be on the X-Axis: year\n",
            "\n",
            "Enter name of column to be on the Y-Axis: HS_3544\n",
            "\n",
            "Please choose an option to below to get type of graph:\n",
            "\n",
            "------------------------------------------------------\n",
            "\n",
            "1. Scatter Plot\n",
            "2. Line Graph\n",
            "------------------------------------------------------\n",
            "\n",
            "2\n",
            "\n",
            "\n"
          ]
        },
        {
          "output_type": "display_data",
          "data": {
            "text/plain": [
              "<Figure size 640x480 with 1 Axes>"
            ],
            "image/png": "[encoded data removed]"
          },
          "metadata": {}
        }
      ]
    }
  ]
}